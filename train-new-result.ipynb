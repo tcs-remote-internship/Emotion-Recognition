{
 "cells": [
  {
   "cell_type": "code",
   "execution_count": 15,
   "metadata": {
    "collapsed": true
   },
   "outputs": [],
   "source": [
    "import numpy as np\n",
    "import pandas as pd\n",
    "from keras.models import Sequential\n",
    "from keras.layers import Dense, Dropout, Activation, Flatten\n",
    "from keras.layers import Convolution2D, MaxPooling2D\n",
    "from keras.utils import np_utils\n",
    "from sklearn.model_selection import train_test_split\n",
    "\n",
    "TRAINING_DATA = \"datasets/train.csv\"\n",
    "TRAIN_COUNT = 2500\n",
    "TEST_COUNT = 1678\n",
    "FULL_SET = 4178\n",
    "IMG_SIZE = (48,48)\n",
    "images = []\n",
    "target = []"
   ]
  },
  {
   "cell_type": "code",
   "execution_count": 16,
   "metadata": {
    "collapsed": true
   },
   "outputs": [],
   "source": [
    "#Read CSV to pandas DataFrame\n",
    "data = pd.read_csv(TRAINING_DATA)\n",
    "Emotions = data['Emotion'].values\n",
    "Pixels = data['Pixels'].values\n",
    "\n",
    "#Formatting pixels to Image Matrix\n",
    "for i in range(len(Pixels)):\n",
    "    pixelsFormatted = np.fromstring(Pixels[i], dtype = int, sep = \" \").reshape(IMG_SIZE)\n",
    "    images.append(pixelsFormatted)\n",
    "    target.append(int(Emotions[i]))    "
   ]
  },
  {
   "cell_type": "code",
   "execution_count": 17,
   "metadata": {
    "collapsed": true
   },
   "outputs": [],
   "source": [
    "X_train = np.array(images)\n",
    "\n",
    "Y_train = np.array(target)\n",
    "\n",
    "\n",
    "\n",
    "#Adding Color depth\n",
    "X_train = X_train.reshape(X_train.shape[0],48,48,1)\n",
    "#7 classes of Output\n",
    "Y_train = np_utils.to_categorical(Y_train,7)\n",
    "#Converting every Element to float\n",
    "X_train = X_train.astype('float32')\n",
    "#Normalize\n",
    "X_train /= 255\n",
    "\n",
    "X_train, X_test, Y_train, Y_test = train_test_split(X_train, Y_train, test_size=0.2)"
   ]
  },
  {
   "cell_type": "code",
   "execution_count": 18,
   "metadata": {},
   "outputs": [
    {
     "name": "stdout",
     "output_type": "stream",
     "text": [
      "_________________________________________________________________\n",
      "Layer (type)                 Output Shape              Param #   \n",
      "=================================================================\n",
      "conv2d_16 (Conv2D)           (None, 45, 45, 48)        816       \n",
      "_________________________________________________________________\n",
      "conv2d_17 (Conv2D)           (None, 39, 39, 16)        37648     \n",
      "_________________________________________________________________\n",
      "max_pooling2d_13 (MaxPooling (None, 19, 19, 16)        0         \n",
      "_________________________________________________________________\n",
      "dropout_20 (Dropout)         (None, 19, 19, 16)        0         \n",
      "_________________________________________________________________\n",
      "flatten_7 (Flatten)          (None, 5776)              0         \n",
      "_________________________________________________________________\n",
      "dense_14 (Dense)             (None, 144)               831888    \n",
      "_________________________________________________________________\n",
      "dropout_21 (Dropout)         (None, 144)               0         \n",
      "_________________________________________________________________\n",
      "dense_15 (Dense)             (None, 7)                 1015      \n",
      "=================================================================\n",
      "Total params: 871,367\n",
      "Trainable params: 871,367\n",
      "Non-trainable params: 0\n",
      "_________________________________________________________________\n"
     ]
    }
   ],
   "source": [
    "#CNN\n",
    "model = Sequential()\n",
    " \n",
    "model.add(Convolution2D(48, (4, 4), activation='relu', input_shape=(48,48,1)))\n",
    "model.add(Convolution2D(16, (7, 7), activation='relu'))\n",
    "model.add(MaxPooling2D(pool_size=(2,2)))\n",
    "model.add(Dropout(0.5))\n",
    "#FCL\n",
    "model.add(Flatten())\n",
    "model.add(Dense(144, activation='relu'))\n",
    "model.add(Dropout(0.5))\n",
    "#Output layer\n",
    "model.add(Dense(7, activation='softmax'))\n",
    " \n",
    "#create model\n",
    "model.compile(loss='categorical_crossentropy', optimizer='adam', metrics=['accuracy'])\n",
    "model.summary()"
   ]
  },
  {
   "cell_type": "code",
   "execution_count": 19,
   "metadata": {},
   "outputs": [
    {
     "name": "stdout",
     "output_type": "stream",
     "text": [
      "Train on 3342 samples, validate on 836 samples\n",
      "Epoch 1/10\n",
      "3342/3342 [==============================] - 77s 23ms/step - loss: 1.7844 - acc: 0.3387 - val_loss: 1.5123 - val_acc: 0.5060\n",
      "Epoch 2/10\n",
      "3342/3342 [==============================] - 74s 22ms/step - loss: 1.4628 - acc: 0.4677 - val_loss: 1.2453 - val_acc: 0.5909\n",
      "Epoch 3/10\n",
      "3342/3342 [==============================] - 74s 22ms/step - loss: 1.2245 - acc: 0.5497 - val_loss: 1.0635 - val_acc: 0.6411\n",
      "Epoch 4/10\n",
      "3342/3342 [==============================] - 73s 22ms/step - loss: 1.1066 - acc: 0.6083 - val_loss: 0.9714 - val_acc: 0.6687\n",
      "Epoch 5/10\n",
      "3342/3342 [==============================] - 73s 22ms/step - loss: 1.0115 - acc: 0.6329 - val_loss: 0.8810 - val_acc: 0.7045\n",
      "Epoch 6/10\n",
      "3342/3342 [==============================] - 76s 23ms/step - loss: 0.9404 - acc: 0.6556 - val_loss: 0.8325 - val_acc: 0.6926\n",
      "Epoch 7/10\n",
      "3342/3342 [==============================] - 75s 22ms/step - loss: 0.8939 - acc: 0.6867 - val_loss: 0.7841 - val_acc: 0.7249\n",
      "Epoch 8/10\n",
      "3342/3342 [==============================] - 73s 22ms/step - loss: 0.8490 - acc: 0.6945 - val_loss: 0.8017 - val_acc: 0.7225\n",
      "Epoch 9/10\n",
      "3342/3342 [==============================] - 72s 22ms/step - loss: 0.8120 - acc: 0.7080 - val_loss: 0.7565 - val_acc: 0.7392\n",
      "Epoch 10/10\n",
      "3342/3342 [==============================] - 73s 22ms/step - loss: 0.7644 - acc: 0.7280 - val_loss: 0.7152 - val_acc: 0.7524\n"
     ]
    }
   ],
   "source": [
    "#Training Dataset\n",
    "model.fit(X_train, Y_train, epochs=10, verbose=1,validation_data=(X_test,Y_test))\n",
    "\n",
    "#Save model to Disk\n",
    "model.save('newblah.h5')\n"
   ]
  },
  {
   "cell_type": "code",
   "execution_count": null,
   "metadata": {
    "collapsed": true
   },
   "outputs": [],
   "source": []
  }
 ],
 "metadata": {
  "kernelspec": {
   "display_name": "Python 3",
   "language": "python",
   "name": "python3"
  },
  "language_info": {
   "codemirror_mode": {
    "name": "ipython",
    "version": 3
   },
   "file_extension": ".py",
   "mimetype": "text/x-python",
   "name": "python",
   "nbconvert_exporter": "python",
   "pygments_lexer": "ipython3",
   "version": "3.6.1"
  }
 },
 "nbformat": 4,
 "nbformat_minor": 2
}
