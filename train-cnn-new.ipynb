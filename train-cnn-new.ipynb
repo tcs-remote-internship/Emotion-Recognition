{
 "cells": [
  {
   "cell_type": "code",
   "execution_count": 6,
   "metadata": {},
   "outputs": [],
   "source": [
    "import numpy as np\n",
    "import pandas as pd\n",
    "from keras.models import Sequential\n",
    "from keras.layers import Dense, Dropout, Activation, Flatten\n",
    "from keras.layers import Convolution2D, MaxPooling2D\n",
    "from keras.layers.normalization import BatchNormalization\n",
    "from keras.utils import np_utils\n",
    "\n",
    "TRAINING_DATA = \"datasets/train.csv\"\n",
    "TRAIN_COUNT = 2500\n",
    "TEST_COUNT = 1678\n",
    "FULL_SET = 4178\n",
    "IMG_SIZE = (48,48)\n",
    "images = []\n",
    "target = []"
   ]
  },
  {
   "cell_type": "code",
   "execution_count": 7,
   "metadata": {
    "collapsed": true
   },
   "outputs": [],
   "source": [
    "#Read CSV to pandas DataFrame\n",
    "data = pd.read_csv(TRAINING_DATA)\n",
    "Emotions = data['Emotion'].values\n",
    "Pixels = data['Pixels'].values\n",
    "\n",
    "#Formatting pixels to Image Matrix\n",
    "for i in range(len(Pixels)):\n",
    "    pixelsFormatted = np.fromstring(Pixels[i], dtype = int, sep = \" \").reshape(IMG_SIZE)\n",
    "    images.append(pixelsFormatted)\n",
    "    target.append(int(Emotions[i]))    "
   ]
  },
  {
   "cell_type": "code",
   "execution_count": 8,
   "metadata": {
    "collapsed": true
   },
   "outputs": [],
   "source": [
    "X_train = np.array(images)\n",
    "\n",
    "Y_train = np.array(target)\n",
    "\n",
    "#Adding Color depth\n",
    "X_train = X_train.reshape(X_train.shape[0],48,48,1)\n",
    "#7 classes of Output\n",
    "Y_train = np_utils.to_categorical(Y_train,7)\n",
    "#Converting every Element to float\n",
    "X_train = X_train.astype('float32')\n",
    "#Normalize\n",
    "X_train /= 255"
   ]
  },
  {
   "cell_type": "code",
   "execution_count": 10,
   "metadata": {},
   "outputs": [
    {
     "name": "stdout",
     "output_type": "stream",
     "text": [
      "_________________________________________________________________\n",
      "Layer (type)                 Output Shape              Param #   \n",
      "=================================================================\n",
      "conv2d_4 (Conv2D)            (None, 46, 46, 64)        640       \n",
      "_________________________________________________________________\n",
      "batch_normalization_3 (Batch (None, 46, 46, 64)        256       \n",
      "_________________________________________________________________\n",
      "activation_3 (Activation)    (None, 46, 46, 64)        0         \n",
      "_________________________________________________________________\n",
      "conv2d_5 (Conv2D)            (None, 44, 44, 64)        36928     \n",
      "_________________________________________________________________\n",
      "batch_normalization_4 (Batch (None, 44, 44, 64)        256       \n",
      "_________________________________________________________________\n",
      "activation_4 (Activation)    (None, 44, 44, 64)        0         \n",
      "_________________________________________________________________\n",
      "max_pooling2d_1 (MaxPooling2 (None, 22, 22, 64)        0         \n",
      "_________________________________________________________________\n",
      "dropout_1 (Dropout)          (None, 22, 22, 64)        0         \n",
      "_________________________________________________________________\n",
      "conv2d_6 (Conv2D)            (None, 20, 20, 32)        18464     \n",
      "_________________________________________________________________\n",
      "batch_normalization_5 (Batch (None, 20, 20, 32)        128       \n",
      "_________________________________________________________________\n",
      "activation_5 (Activation)    (None, 20, 20, 32)        0         \n",
      "_________________________________________________________________\n",
      "conv2d_7 (Conv2D)            (None, 18, 18, 32)        9248      \n",
      "_________________________________________________________________\n",
      "batch_normalization_6 (Batch (None, 18, 18, 32)        128       \n",
      "_________________________________________________________________\n",
      "activation_6 (Activation)    (None, 18, 18, 32)        0         \n",
      "_________________________________________________________________\n",
      "conv2d_8 (Conv2D)            (None, 16, 16, 32)        9248      \n",
      "_________________________________________________________________\n",
      "batch_normalization_7 (Batch (None, 16, 16, 32)        128       \n",
      "_________________________________________________________________\n",
      "activation_7 (Activation)    (None, 16, 16, 32)        0         \n",
      "_________________________________________________________________\n",
      "max_pooling2d_2 (MaxPooling2 (None, 8, 8, 32)          0         \n",
      "_________________________________________________________________\n",
      "dropout_2 (Dropout)          (None, 8, 8, 32)          0         \n",
      "_________________________________________________________________\n",
      "flatten_1 (Flatten)          (None, 2048)              0         \n",
      "_________________________________________________________________\n",
      "dense_1 (Dense)              (None, 128)               262272    \n",
      "_________________________________________________________________\n",
      "batch_normalization_8 (Batch (None, 128)               512       \n",
      "_________________________________________________________________\n",
      "activation_8 (Activation)    (None, 128)               0         \n",
      "_________________________________________________________________\n",
      "dropout_3 (Dropout)          (None, 128)               0         \n",
      "_________________________________________________________________\n",
      "dense_2 (Dense)              (None, 7)                 903       \n",
      "_________________________________________________________________\n",
      "activation_9 (Activation)    (None, 7)                 0         \n",
      "=================================================================\n",
      "Total params: 339,111\n",
      "Trainable params: 338,407\n",
      "Non-trainable params: 704\n",
      "_________________________________________________________________\n"
     ]
    }
   ],
   "source": [
    "model = Sequential()\n",
    "\n",
    "model.add(Convolution2D(64, 3, data_format=\"channels_last\", kernel_initializer=\"he_normal\", \n",
    "                 input_shape=(48, 48, 1)))\n",
    "model.add(BatchNormalization())\n",
    "model.add(Activation(\"relu\"))\n",
    "\n",
    "model.add(Convolution2D(64, 3))\n",
    "model.add(BatchNormalization())\n",
    "model.add(Activation(\"relu\"))\n",
    "model.add(MaxPooling2D(pool_size=(2, 2), strides=2))\n",
    "model.add(Dropout(0.6))\n",
    "\n",
    "model.add(Convolution2D(32, 3))\n",
    "model.add(BatchNormalization())\n",
    "model.add(Activation(\"relu\"))\n",
    "\n",
    "model.add(Convolution2D(32, 3))\n",
    "model.add(BatchNormalization())\n",
    "model.add(Activation(\"relu\"))\n",
    "\n",
    "model.add(Convolution2D(32, 3))\n",
    "model.add(BatchNormalization())\n",
    "model.add(Activation(\"relu\"))\n",
    "model.add(MaxPooling2D(pool_size=(2, 2), strides=2))\n",
    "model.add(Dropout(0.6))\n",
    "\n",
    "model.add(Flatten())\n",
    "model.add(Dense(128))\n",
    "model.add(BatchNormalization())\n",
    "model.add(Activation(\"relu\"))\n",
    "model.add(Dropout(0.6))\n",
    "\n",
    "model.add(Dense(7))\n",
    "model.add(Activation('softmax'))\n",
    "\n",
    "model.compile(loss='categorical_crossentropy', optimizer='adam', metrics=['accuracy'])\n",
    "model.summary()"
   ]
  },
  {
   "cell_type": "code",
   "execution_count": 11,
   "metadata": {},
   "outputs": [
    {
     "name": "stdout",
     "output_type": "stream",
     "text": [
      "Epoch 1/10\n",
      "4178/4178 [==============================] - 189s - loss: 2.0496 - acc: 0.3047   \n",
      "Epoch 2/10\n",
      "4178/4178 [==============================] - 187s - loss: 1.4929 - acc: 0.4818   \n",
      "Epoch 3/10\n",
      "4178/4178 [==============================] - 186s - loss: 1.2834 - acc: 0.5400   \n",
      "Epoch 4/10\n",
      "4178/4178 [==============================] - 185s - loss: 1.1641 - acc: 0.5864   \n",
      "Epoch 5/10\n",
      "4178/4178 [==============================] - 184s - loss: 1.0804 - acc: 0.6087   \n",
      "Epoch 6/10\n",
      "4178/4178 [==============================] - 187s - loss: 1.0193 - acc: 0.6266   \n",
      "Epoch 7/10\n",
      "4178/4178 [==============================] - 188s - loss: 0.9671 - acc: 0.6443   \n",
      "Epoch 8/10\n",
      "4178/4178 [==============================] - 198s - loss: 0.8960 - acc: 0.6778   \n",
      "Epoch 9/10\n",
      "4178/4178 [==============================] - 203s - loss: 0.8659 - acc: 0.6831   \n",
      "Epoch 10/10\n",
      "4178/4178 [==============================] - 199s - loss: 0.8207 - acc: 0.6989   \n"
     ]
    },
    {
     "data": {
      "text/plain": [
       "<keras.callbacks.History at 0x254819ffcf8>"
      ]
     },
     "execution_count": 11,
     "metadata": {},
     "output_type": "execute_result"
    }
   ],
   "source": [
    "#Training Dataset\n",
    "model.fit(X_train, Y_train, batch_size=32, epochs=10, verbose=1)\n",
    "\n",
    "#Save model to Disk\n",
    "#model.save('blah.h5')\n"
   ]
  },
  {
   "cell_type": "code",
   "execution_count": 12,
   "metadata": {
    "collapsed": true
   },
   "outputs": [],
   "source": [
    "model.save('new.h5')"
   ]
  },
  {
   "cell_type": "code",
   "execution_count": null,
   "metadata": {
    "collapsed": true
   },
   "outputs": [],
   "source": []
  }
 ],
 "metadata": {
  "kernelspec": {
   "display_name": "Python 3",
   "language": "python",
   "name": "python3"
  },
  "language_info": {
   "codemirror_mode": {
    "name": "ipython",
    "version": 3
   },
   "file_extension": ".py",
   "mimetype": "text/x-python",
   "name": "python",
   "nbconvert_exporter": "python",
   "pygments_lexer": "ipython3",
   "version": "3.6.1"
  }
 },
 "nbformat": 4,
 "nbformat_minor": 2
}
