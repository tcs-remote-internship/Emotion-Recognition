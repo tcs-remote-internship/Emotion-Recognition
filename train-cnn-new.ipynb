{
 "cells": [
  {
   "cell_type": "code",
   "execution_count": 45,
   "metadata": {},
   "outputs": [],
   "source": [
    "import numpy as np\n",
    "import pandas as pd\n",
    "import tensorflow as tf\n",
    "from keras.models import Sequential\n",
    "from keras.layers import Dense, Dropout, Activation, Flatten\n",
    "from keras.layers import Convolution2D, MaxPooling2D, AveragePooling2D,GlobalAveragePooling2D\n",
    "from keras.utils import np_utils\n",
    "from keras.preprocessing.image import ImageDataGenerator\n",
    "\n",
    "TRAINING_DATA = \"datasets/train.csv\"\n",
    "TRAIN_COUNT = 2500\n",
    "TEST_COUNT = 1678\n",
    "FULL_SET = 4178\n",
    "IMG_SIZE = (48,48)\n",
    "images = []\n",
    "target = []"
   ]
  },
  {
   "cell_type": "code",
   "execution_count": 46,
   "metadata": {
    "collapsed": true
   },
   "outputs": [],
   "source": [
    "#Read CSV to pandas DataFrame\n",
    "data = pd.read_csv(TRAINING_DATA)\n",
    "Emotions = data['Emotion'].values\n",
    "Pixels = data['Pixels'].values\n",
    "\n",
    "#Formatting pixels to Image Matrix\n",
    "for i in range(len(Pixels)):\n",
    "    pixelsFormatted = np.fromstring(Pixels[i], dtype = int, sep = \" \").reshape(IMG_SIZE)\n",
    "    images.append(pixelsFormatted)\n",
    "    target.append(int(Emotions[i]))    "
   ]
  },
  {
   "cell_type": "code",
   "execution_count": 48,
   "metadata": {},
   "outputs": [],
   "source": [
    "X_train = np.array(images[:3000])\n",
    "\n",
    "Y_train = np.array(target[:3000])\n",
    "\n",
    "#Adding Color depth\n",
    "X_train = X_train.reshape(X_train.shape[0],48,48,1)\n",
    "#7 classes of Output\n",
    "Y_train = np_utils.to_categorical(Y_train,7)\n",
    "#Converting every Element to float\n",
    "X_train = X_train.astype('float32')\n",
    "#Normalize\n",
    "X_train /= 255\n",
    "\n",
    "X_test = np.array(images[3000:])\n",
    "\n",
    "Y_test = np.array(target[3000:])\n",
    "\n",
    "X_test = X_test.reshape(X_test.shape[0],48,48,1)\n",
    "\n",
    "Y_test = np_utils.to_categorical(Y_test,7)\n",
    "\n",
    "X_test = X_test.astype('float32')\n",
    "\n",
    "X_test /=255"
   ]
  },
  {
   "cell_type": "code",
   "execution_count": 56,
   "metadata": {},
   "outputs": [
    {
     "name": "stdout",
     "output_type": "stream",
     "text": [
      "Epoch 1/5\n",
      "100/100 [==============================] - 65s - loss: 1.8681 - acc: 0.2835 - val_loss: 1.8544 - val_acc: 0.2929\n",
      "Epoch 2/5\n",
      "100/100 [==============================] - 62s - loss: 1.8517 - acc: 0.2930 - val_loss: 1.8001 - val_acc: 0.3379\n",
      "Epoch 3/5\n",
      "100/100 [==============================] - 62s - loss: 1.6480 - acc: 0.4106 - val_loss: 1.4830 - val_acc: 0.4728\n",
      "Epoch 4/5\n",
      "100/100 [==============================] - 62s - loss: 1.3932 - acc: 0.4902 - val_loss: 1.3129 - val_acc: 0.5178\n",
      "Epoch 5/5\n",
      "100/100 [==============================] - 62s - loss: 1.2775 - acc: 0.5356 - val_loss: 1.2198 - val_acc: 0.5603\n"
     ]
    }
   ],
   "source": [
    "model = Sequential()\n",
    "\n",
    "#1st convolution layer\n",
    "model.add(Convolution2D(64, (5, 5), activation='relu', input_shape=(48,48,1)))\n",
    "model.add(MaxPooling2D(pool_size=(5,5), strides=(2, 2)))\n",
    "\n",
    "#2nd convolution layer\n",
    "model.add(Convolution2D(64, (3, 3), activation='relu'))\n",
    "model.add(Convolution2D(64, (3, 3), activation='relu'))\n",
    "model.add(AveragePooling2D(pool_size=(3,3), strides=(2, 2)))\n",
    "\n",
    "#3rd convolution layer\n",
    "model.add(Convolution2D(128, (3, 3), activation='relu'))\n",
    "model.add(Convolution2D(128, (3, 3), activation='relu'))\n",
    "model.add(AveragePooling2D(pool_size=(3,3), strides=(2, 2)))\n",
    "\n",
    "model.add(Flatten())\n",
    "\n",
    "#fully connected neural networks- connectes each input node to output node\n",
    "model.add(Dense(1024, activation='relu'))\n",
    "model.add(Dropout(0.5))\n",
    "model.add(Dense(1024, activation='relu'))\n",
    "model.add(Dropout(0.5))\n",
    "\n",
    "model.add(Dense(7, activation='softmax'))\n",
    "\n",
    "gen = ImageDataGenerator()\n",
    "train_generator = gen.flow(X_train, Y_train, batch_size=64) \n",
    "test_generator = gen.flow(X_test,Y_test, batch_size=64)\n",
    "\n",
    "\n",
    "model.compile(loss='categorical_crossentropy'\n",
    "    , optimizer='adam'\n",
    "    , metrics=['accuracy']\n",
    "             )\n",
    "callbacks = []\n",
    "model.fit_generator(train_generator,steps_per_epoch = 100, epochs=5,validation_data=(X_test,Y_test) )\n",
    "\n",
    "model.save('enjn.h5')"
   ]
  },
  {
   "cell_type": "code",
   "execution_count": 55,
   "metadata": {},
   "outputs": [
    {
     "name": "stdout",
     "output_type": "stream",
     "text": [
      "_________________________________________________________________\n",
      "Layer (type)                 Output Shape              Param #   \n",
      "=================================================================\n",
      "conv2d_154 (Conv2D)          (None, 44, 44, 64)        1664      \n",
      "_________________________________________________________________\n",
      "max_pooling2d_26 (MaxPooling (None, 20, 20, 64)        0         \n",
      "_________________________________________________________________\n",
      "conv2d_155 (Conv2D)          (None, 18, 18, 64)        36928     \n",
      "_________________________________________________________________\n",
      "conv2d_156 (Conv2D)          (None, 16, 16, 64)        36928     \n",
      "_________________________________________________________________\n",
      "average_pooling2d_61 (Averag (None, 7, 7, 64)          0         \n",
      "_________________________________________________________________\n",
      "conv2d_157 (Conv2D)          (None, 5, 5, 128)         73856     \n",
      "_________________________________________________________________\n",
      "conv2d_158 (Conv2D)          (None, 3, 3, 128)         147584    \n",
      "_________________________________________________________________\n",
      "average_pooling2d_62 (Averag (None, 1, 1, 128)         0         \n",
      "_________________________________________________________________\n",
      "flatten_23 (Flatten)         (None, 128)               0         \n",
      "_________________________________________________________________\n",
      "dense_67 (Dense)             (None, 1024)              132096    \n",
      "_________________________________________________________________\n",
      "dropout_75 (Dropout)         (None, 1024)              0         \n",
      "_________________________________________________________________\n",
      "dense_68 (Dense)             (None, 1024)              1049600   \n",
      "_________________________________________________________________\n",
      "dropout_76 (Dropout)         (None, 1024)              0         \n",
      "_________________________________________________________________\n",
      "dense_69 (Dense)             (None, 7)                 7175      \n",
      "=================================================================\n",
      "Total params: 1,485,831\n",
      "Trainable params: 1,485,831\n",
      "Non-trainable params: 0\n",
      "_________________________________________________________________\n"
     ]
    }
   ],
   "source": [
    "model.summary()"
   ]
  },
  {
   "cell_type": "code",
   "execution_count": null,
   "metadata": {
    "collapsed": true
   },
   "outputs": [],
   "source": []
  }
 ],
 "metadata": {
  "kernelspec": {
   "display_name": "Python 3",
   "language": "python",
   "name": "python3"
  },
  "language_info": {
   "codemirror_mode": {
    "name": "ipython",
    "version": 3
   },
   "file_extension": ".py",
   "mimetype": "text/x-python",
   "name": "python",
   "nbconvert_exporter": "python",
   "pygments_lexer": "ipython3",
   "version": "3.6.1"
  }
 },
 "nbformat": 4,
 "nbformat_minor": 2
}
