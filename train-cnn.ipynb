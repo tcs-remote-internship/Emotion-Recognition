{
 "cells": [
  {
   "cell_type": "code",
   "execution_count": 25,
   "metadata": {},
   "outputs": [],
   "source": [
    "import numpy as np\n",
    "import pandas as pd\n",
    "from keras.models import Sequential\n",
    "from keras.layers import Dense, Dropout, Activation, Flatten\n",
    "from keras.layers import Convolution2D, MaxPooling2D\n",
    "from keras.utils import np_utils\n",
    "\n",
    "TRAINING_DATA = \"datasets/train.csv\"\n",
    "TRAIN_COUNT = 2500\n",
    "TEST_COUNT = 1678\n",
    "FULL_SET = 4178\n",
    "IMG_SIZE = (48,48)\n",
    "images = []\n",
    "target = []"
   ]
  },
  {
   "cell_type": "code",
   "execution_count": 26,
   "metadata": {},
   "outputs": [],
   "source": [
    "#Read CSV to pandas DataFrame\n",
    "data = pd.read_csv(TRAINING_DATA)\n",
    "Emotions = data['Emotion'].values\n",
    "Pixels = data['Pixels'].values\n",
    "\n",
    "#Formatting pixels\n",
    "for i in range(len(Pixels)):\n",
    "    pixelsFormatted = np.fromstring(Pixels[i], dtype = int, sep = \" \").reshape(IMG_SIZE)\n",
    "    images.append(pixelsFormatted)\n",
    "    target.append(int(Emotions[i]))    "
   ]
  },
  {
   "cell_type": "code",
   "execution_count": 31,
   "metadata": {},
   "outputs": [],
   "source": [
    "X_train = np.array(images)\n",
    "Y_train = np.array(target)\n",
    "X_train = X_train.reshape(X_train.shape[0],48,48,1)\n",
    "X_test = X_test.reshape(X_test.shape[0],48,48,1) \n",
    "Y_train = np_utils.to_categorical(Y_train,7)\n",
    "X_test = np.array(images[TRAIN_COUNT:FULL_SET])\n",
    "Y_test = np.array(target[TRAIN_COUNT:FULL_SET])\n",
    "X_train = X_train.astype('float32')\n",
    "X_test = X_test.astype('float32')\n",
    "X_train /= 255\n",
    "X_test /= 255"
   ]
  },
  {
   "cell_type": "code",
   "execution_count": 32,
   "metadata": {},
   "outputs": [],
   "source": [
    "#CNN\n",
    "model = Sequential()\n",
    " \n",
    "model.add(Convolution2D(48, (4, 4), activation='relu', input_shape=(48,48,1)))\n",
    "model.add(Convolution2D(16, (7, 7), activation='relu'))\n",
    "model.add(MaxPooling2D(pool_size=(2,2)))\n",
    "model.add(Dropout(0.5))\n",
    " \n",
    "model.add(Flatten())\n",
    "model.add(Dense(144, activation='relu'))\n",
    "model.add(Dropout(0.5))\n",
    "model.add(Dense(7, activation='softmax'))\n",
    " \n",
    "#create model\n",
    "model.compile(loss='categorical_crossentropy', optimizer='adam', metrics=['accuracy'])"
   ]
  },
  {
   "cell_type": "code",
   "execution_count": 33,
   "metadata": {},
   "outputs": [
    {
     "name": "stdout",
     "output_type": "stream",
     "text": [
      "Epoch 1/10\n",
      "4178/4178 [==============================] - 98s - loss: 1.7221 - acc: 0.3609    \n",
      "Epoch 2/10\n",
      "4178/4178 [==============================] - 98s - loss: 1.1827 - acc: 0.5804    \n",
      "Epoch 3/10\n",
      "4178/4178 [==============================] - 97s - loss: 0.9933 - acc: 0.6501    \n",
      "Epoch 4/10\n",
      "4178/4178 [==============================] - 99s - loss: 0.8948 - acc: 0.6740    \n",
      "Epoch 5/10\n",
      "4178/4178 [==============================] - 98s - loss: 0.8473 - acc: 0.7022    \n",
      "Epoch 6/10\n",
      "4178/4178 [==============================] - 97s - loss: 0.7949 - acc: 0.7154    \n",
      "Epoch 7/10\n",
      "4178/4178 [==============================] - 99s - loss: 0.7583 - acc: 0.7329    \n",
      "Epoch 8/10\n",
      "4178/4178 [==============================] - 98s - loss: 0.7205 - acc: 0.7408    \n",
      "Epoch 9/10\n",
      "4178/4178 [==============================] - 106s - loss: 0.7107 - acc: 0.7487   \n",
      "Epoch 10/10\n",
      "4178/4178 [==============================] - 102s - loss: 0.6786 - acc: 0.7549   \n"
     ]
    }
   ],
   "source": [
    "#Training Dataset\n",
    "model.fit(X_train, Y_train, batch_size=32, epochs=10, verbose=1)\n",
    "\n",
    "#Save model to Disk\n",
    "model.save('blah.h5')\n",
    "#score = model.evaluate(X_test, Y_test, verbose=1)"
   ]
  },
  {
   "cell_type": "code",
   "execution_count": null,
   "metadata": {
    "collapsed": true
   },
   "outputs": [],
   "source": []
  }
 ],
 "metadata": {
  "kernelspec": {
   "display_name": "Python 3",
   "language": "python",
   "name": "python3"
  },
  "language_info": {
   "codemirror_mode": {
    "name": "ipython",
    "version": 3
   },
   "file_extension": ".py",
   "mimetype": "text/x-python",
   "name": "python",
   "nbconvert_exporter": "python",
   "pygments_lexer": "ipython3",
   "version": "3.6.1"
  }
 },
 "nbformat": 4,
 "nbformat_minor": 2
}
