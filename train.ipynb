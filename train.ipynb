{
 "cells": [
  {
   "cell_type": "code",
   "execution_count": 6,
   "metadata": {},
   "outputs": [],
   "source": [
    "import numpy as np\n",
    "import pandas as pd\n",
    "import os\n",
    "import cv2\n",
    "import dlib\n",
    "import matplotlib.pyplot as plt\n",
    "from keras.models import Sequential\n",
    "from keras.layers import Dense, Dropout, Activation, Flatten\n",
    "from keras.layers import Convolution2D, MaxPooling2D\n",
    "from keras.utils import np_utils\n",
    "\n",
    "data_dict = dict()\n",
    "test_data = dict()\n",
    "test_labels = dict()\n",
    "#Read Training data\n",
    "data = pd.read_csv('datasets/train.csv')\n",
    "data_test = pd.read_csv('datasets/test.csv')"
   ]
  },
  {
   "cell_type": "code",
   "execution_count": 11,
   "metadata": {},
   "outputs": [],
   "source": [
    "predictor = dlib.shape_predictor('shape_predictor_68_face_landmarks.dat')"
   ]
  },
  {
   "cell_type": "code",
   "execution_count": null,
   "metadata": {
    "collapsed": true
   },
   "outputs": [],
   "source": []
  },
  {
   "cell_type": "code",
   "execution_count": 12,
   "metadata": {},
   "outputs": [
    {
     "name": "stdout",
     "output_type": "stream",
     "text": [
      "2089.0\n"
     ]
    }
   ],
   "source": [
    "emotions = data['Emotion'].values\n",
    "pixels = data['Pixels'].values\n",
    "pixels_test = pixels\n",
    "print(len(pixels)/2)\n"
   ]
  },
  {
   "cell_type": "code",
   "execution_count": 13,
   "metadata": {},
   "outputs": [
    {
     "data": {
      "text/plain": [
       "4178"
      ]
     },
     "execution_count": 13,
     "metadata": {},
     "output_type": "execute_result"
    }
   ],
   "source": [
    "pixels.shape[0]"
   ]
  },
  {
   "cell_type": "code",
   "execution_count": 14,
   "metadata": {},
   "outputs": [],
   "source": [
    "# Data Extration using Training set\n",
    "images = []\n",
    "target = []\n",
    "landmarks = []\n",
    "for i in range(int(len(pixels)/2)):\n",
    "    pixels_formatted = np.fromstring(pixels[i],dtype=int, sep=\" \").reshape((48,48))\n",
    "    images.append(pixels_formatted)\n",
    "    target.append(int(emotions[i]))\n",
    "    cv2.imwrite('tempu.jpg',pixels_formatted)\n",
    "    image= cv2.imread('tempu.jpg')\n",
    "    face_rect= [dlib.rectangle(left=1, top=1, right=47, bottom = 47)]\n",
    "    face_landmarks = np.matrix([[p.x, p.y] for p in predictor(image, face_rect[0]).parts()])\n",
    "    landmarks.append(face_landmarks)"
   ]
  },
  {
   "cell_type": "code",
   "execution_count": 15,
   "metadata": {},
   "outputs": [
    {
     "name": "stdout",
     "output_type": "stream",
     "text": [
      "[3 6 4 6 2 6 3 1 3 1]\n",
      "(2089, 48, 48)\n",
      "(2089, 7)\n"
     ]
    }
   ],
   "source": [
    "X_train = np.array(images)\n",
    "Y_train = np.array(target)\n",
    "print(Y_train[:10])\n",
    "print(X_train.shape)\n",
    "X_train = X_train.reshape(X_train.shape[0],48,48,1)\n",
    "Y_train = np_utils.to_categorical(Y_train,7)\n",
    "print(Y_train.shape)\n"
   ]
  },
  {
   "cell_type": "code",
   "execution_count": 16,
   "metadata": {
    "collapsed": true
   },
   "outputs": [],
   "source": [
    "#Data Extraction using Test set\n",
    "images_test = []\n",
    "landmarks_test = []\n",
    "target_test = []\n",
    "for i in range(int(len(pixels_test)/2)+1,len(pixels_test)):\n",
    "    pixels_formatted = np.fromstring(pixels_test[i],dtype=int, sep=\" \").reshape((48,48))\n",
    "    images_test.append(pixels_formatted)\n",
    "    target_test.append(int(emotions[i]))\n",
    "    cv2.imwrite('temp.jpg',pixels_formatted)\n",
    "    image= cv2.imread('temp.jpg')\n",
    "    face_rect= [dlib.rectangle(left=1, top=1, right=47, bottom = 47)]\n",
    "    face_landmarks_test = np.matrix([[p.x, p.y] for p in predictor(image, face_rect[0]).parts()])\n",
    "    landmarks_test.append(face_landmarks_test)"
   ]
  },
  {
   "cell_type": "code",
   "execution_count": 17,
   "metadata": {},
   "outputs": [
    {
     "name": "stdout",
     "output_type": "stream",
     "text": [
      "[3 5 5 6 5 1 4 0 3 6]\n",
      "(2088, 48, 48)\n",
      "(2088, 7)\n"
     ]
    }
   ],
   "source": [
    "X_test = np.array(images_test)\n",
    "Y_test = np.array(target_test)\n",
    "print(Y_test[:10])\n",
    "print(X_test.shape)\n",
    "X_test = X_test.reshape(X_test.shape[0],48,48,1)\n",
    "Y_test = np_utils.to_categorical(Y_test,7)\n",
    "print(Y_test.shape)\n",
    "X_train = X_train.astype('float32')\n",
    "X_test = X_test.astype('float32')\n",
    "X_train /= 255\n",
    "X_test /= 255\n"
   ]
  },
  {
   "cell_type": "code",
   "execution_count": 18,
   "metadata": {},
   "outputs": [
    {
     "ename": "FileNotFoundError",
     "evalue": "[Errno 2] No such file or directory: '../saved/images.npy'",
     "output_type": "error",
     "traceback": [
      "\u001b[1;31m---------------------------------------------------------------------------\u001b[0m",
      "\u001b[1;31mFileNotFoundError\u001b[0m                         Traceback (most recent call last)",
      "\u001b[1;32m<ipython-input-18-9e259729e8f6>\u001b[0m in \u001b[0;36m<module>\u001b[1;34m()\u001b[0m\n\u001b[1;32m----> 1\u001b[1;33m \u001b[0mnp\u001b[0m\u001b[1;33m.\u001b[0m\u001b[0msave\u001b[0m\u001b[1;33m(\u001b[0m\u001b[1;34m'../saved/images.npy'\u001b[0m\u001b[1;33m,\u001b[0m\u001b[0mimages\u001b[0m\u001b[1;33m)\u001b[0m\u001b[1;33m\u001b[0m\u001b[0m\n\u001b[0m\u001b[0;32m      2\u001b[0m \u001b[0mnp\u001b[0m\u001b[1;33m.\u001b[0m\u001b[0msave\u001b[0m\u001b[1;33m(\u001b[0m\u001b[1;34m'../saved/targets.npy'\u001b[0m\u001b[1;33m,\u001b[0m\u001b[0mtarget\u001b[0m\u001b[1;33m)\u001b[0m\u001b[1;33m\u001b[0m\u001b[0m\n\u001b[0;32m      3\u001b[0m \u001b[0mnp\u001b[0m\u001b[1;33m.\u001b[0m\u001b[0msave\u001b[0m\u001b[1;33m(\u001b[0m\u001b[1;34m'../saved/landmarks.npy'\u001b[0m\u001b[1;33m,\u001b[0m\u001b[0mlandmarks\u001b[0m\u001b[1;33m)\u001b[0m\u001b[1;33m\u001b[0m\u001b[0m\n\u001b[0;32m      4\u001b[0m \u001b[0mprint\u001b[0m\u001b[1;33m(\u001b[0m\u001b[0mlen\u001b[0m\u001b[1;33m(\u001b[0m\u001b[0mtarget_test\u001b[0m\u001b[1;33m)\u001b[0m\u001b[1;33m)\u001b[0m\u001b[1;33m\u001b[0m\u001b[0m\n",
      "\u001b[1;32mC:\\Users\\Batboii\\Anaconda3\\lib\\site-packages\\numpy\\lib\\npyio.py\u001b[0m in \u001b[0;36msave\u001b[1;34m(file, arr, allow_pickle, fix_imports)\u001b[0m\n\u001b[0;32m    488\u001b[0m         \u001b[1;32mif\u001b[0m \u001b[1;32mnot\u001b[0m \u001b[0mfile\u001b[0m\u001b[1;33m.\u001b[0m\u001b[0mendswith\u001b[0m\u001b[1;33m(\u001b[0m\u001b[1;34m'.npy'\u001b[0m\u001b[1;33m)\u001b[0m\u001b[1;33m:\u001b[0m\u001b[1;33m\u001b[0m\u001b[0m\n\u001b[0;32m    489\u001b[0m             \u001b[0mfile\u001b[0m \u001b[1;33m=\u001b[0m \u001b[0mfile\u001b[0m \u001b[1;33m+\u001b[0m \u001b[1;34m'.npy'\u001b[0m\u001b[1;33m\u001b[0m\u001b[0m\n\u001b[1;32m--> 490\u001b[1;33m         \u001b[0mfid\u001b[0m \u001b[1;33m=\u001b[0m \u001b[0mopen\u001b[0m\u001b[1;33m(\u001b[0m\u001b[0mfile\u001b[0m\u001b[1;33m,\u001b[0m \u001b[1;34m\"wb\"\u001b[0m\u001b[1;33m)\u001b[0m\u001b[1;33m\u001b[0m\u001b[0m\n\u001b[0m\u001b[0;32m    491\u001b[0m         \u001b[0mown_fid\u001b[0m \u001b[1;33m=\u001b[0m \u001b[1;32mTrue\u001b[0m\u001b[1;33m\u001b[0m\u001b[0m\n\u001b[0;32m    492\u001b[0m     \u001b[1;32melif\u001b[0m \u001b[0mis_pathlib_path\u001b[0m\u001b[1;33m(\u001b[0m\u001b[0mfile\u001b[0m\u001b[1;33m)\u001b[0m\u001b[1;33m:\u001b[0m\u001b[1;33m\u001b[0m\u001b[0m\n",
      "\u001b[1;31mFileNotFoundError\u001b[0m: [Errno 2] No such file or directory: '../saved/images.npy'"
     ]
    }
   ],
   "source": [
    "np.save('../saved/images.npy',images)\n",
    "np.save('../saved/targets.npy',target)\n",
    "np.save('../saved/landmarks.npy',landmarks)\n",
    "print(len(target_test))"
   ]
  },
  {
   "cell_type": "code",
   "execution_count": 283,
   "metadata": {},
   "outputs": [
    {
     "name": "stdout",
     "output_type": "stream",
     "text": [
      "Epoch 1/10\n",
      "2089/2089 [==============================] - 62s - loss: 1.9401 - acc: 0.2336    \n",
      "Epoch 2/10\n",
      "2089/2089 [==============================] - 57s - loss: 1.8634 - acc: 0.2901    \n",
      "Epoch 3/10\n",
      "2089/2089 [==============================] - 52s - loss: 1.8140 - acc: 0.3140    \n",
      "Epoch 4/10\n",
      "2089/2089 [==============================] - 53s - loss: 1.6540 - acc: 0.4031    \n",
      "Epoch 5/10\n",
      "2089/2089 [==============================] - 53s - loss: 1.3852 - acc: 0.5074    \n",
      "Epoch 6/10\n",
      "2089/2089 [==============================] - 54s - loss: 1.2370 - acc: 0.5711    \n",
      "Epoch 7/10\n",
      "2089/2089 [==============================] - 54s - loss: 1.0986 - acc: 0.6213    \n",
      "Epoch 8/10\n",
      "2089/2089 [==============================] - 53s - loss: 1.0077 - acc: 0.6477    \n",
      "Epoch 9/10\n",
      "2089/2089 [==============================] - 56s - loss: 0.9445 - acc: 0.6692    \n",
      "Epoch 10/10\n",
      "2089/2089 [==============================] - 64s - loss: 0.9089 - acc: 0.6721    \n",
      "2088/2088 [==============================] - 20s    \n"
     ]
    }
   ],
   "source": [
    "model = Sequential()\n",
    " \n",
    "model.add(Convolution2D(48, (4, 4), activation='relu', input_shape=(48,48,1)))\n",
    "model.add(Convolution2D(16, (7, 7), activation='relu'))\n",
    "model.add(MaxPooling2D(pool_size=(2,2)))\n",
    "model.add(Dropout(0.5))\n",
    " \n",
    "model.add(Flatten())\n",
    "model.add(Dense(144, activation='relu'))\n",
    "model.add(Dropout(0.5))\n",
    "model.add(Dense(7, activation='softmax'))\n",
    " \n",
    "\n",
    "model.compile(loss='categorical_crossentropy',\n",
    "              optimizer='adam',\n",
    "              metrics=['accuracy'])\n",
    " \n",
    "\n",
    "model.fit(X_train, Y_train, batch_size=32, epochs=10, verbose=1)\n",
    " \n",
    "model.save('blah.h5')\n",
    "score = model.evaluate(X_test, Y_test, verbose=1)"
   ]
  },
  {
   "cell_type": "code",
   "execution_count": 274,
   "metadata": {},
   "outputs": [
    {
     "data": {
      "text/plain": [
       "[0.87753359122751318, 0.70210727969348663]"
      ]
     },
     "execution_count": 274,
     "metadata": {},
     "output_type": "execute_result"
    }
   ],
   "source": [
    "score"
   ]
  },
  {
   "cell_type": "code",
   "execution_count": 223,
   "metadata": {
    "collapsed": true
   },
   "outputs": [],
   "source": [
    "landmarks = np.array(landmarks)\n",
    "target = np.array(target)\n",
    "target_test = np.array(target_test)\n",
    "landmarks_test = np.array(landmarks_test)\n",
    "data_dict['X'] = np.array([x.flatten() for x in landmarks])\n",
    "data_dict['Y'] = np.array(target)\n",
    "\n",
    "test_data['X'] = np.array([x.flatten() for x in landmarks_test])\n",
    "test_data['Y'] = np.array(target_test)"
   ]
  },
  {
   "cell_type": "code",
   "execution_count": 224,
   "metadata": {
    "collapsed": true
   },
   "outputs": [],
   "source": [
    "import time\n",
    "import os\n",
    "import _pickle as cPickle\n",
    "from sklearn.svm import SVC\n",
    "from sklearn.ensemble import AdaBoostClassifier\n",
    "from sklearn.metrics import accuracy_score "
   ]
  },
  {
   "cell_type": "code",
   "execution_count": 225,
   "metadata": {
    "collapsed": true
   },
   "outputs": [],
   "source": [
    "#Training\n",
    "model = AdaBoostClassifier(n_estimators = 70,learning_rate = 0.7, algorithm = 'SAMME.R')"
   ]
  },
  {
   "cell_type": "code",
   "execution_count": 226,
   "metadata": {},
   "outputs": [
    {
     "name": "stdout",
     "output_type": "stream",
     "text": [
      "0.6492621898651123\n"
     ]
    }
   ],
   "source": [
    "start_time = time.time()\n",
    "model.fit(data_dict['X'],data_dict['Y'])\n",
    "training_time = time.time()-start_time\n",
    "print(training_time)\n"
   ]
  },
  {
   "cell_type": "code",
   "execution_count": 227,
   "metadata": {
    "collapsed": true
   },
   "outputs": [],
   "source": [
    "predicted_emotion = model.predict(test_data['X'])"
   ]
  },
  {
   "cell_type": "code",
   "execution_count": 228,
   "metadata": {},
   "outputs": [
    {
     "name": "stdout",
     "output_type": "stream",
     "text": [
      "0.585727969349\n"
     ]
    }
   ],
   "source": [
    "print(accuracy_score(predicted_emotion,test_data['Y']))"
   ]
  },
  {
   "cell_type": "code",
   "execution_count": 216,
   "metadata": {},
   "outputs": [
    {
     "data": {
      "text/plain": [
       "2088"
      ]
     },
     "execution_count": 216,
     "metadata": {},
     "output_type": "execute_result"
    }
   ],
   "source": [
    "len(test_data['Y'])"
   ]
  },
  {
   "cell_type": "code",
   "execution_count": 217,
   "metadata": {
    "collapsed": true
   },
   "outputs": [],
   "source": [
    "from pandas_ml import ConfusionMatrix as cm"
   ]
  },
  {
   "cell_type": "code",
   "execution_count": 218,
   "metadata": {},
   "outputs": [
    {
     "name": "stdout",
     "output_type": "stream",
     "text": [
      "Predicted    0    1    2    3    4    5    6  __all__\n",
      "Actual                                               \n",
      "0          134   25    5    4    9    3   35      215\n",
      "1           38  113    4   15   23    2   19      214\n",
      "2            8   16   39   18   17   44   79      221\n",
      "3            1   19    8  325    0    1   23      377\n",
      "4           22   12    5    5   42   14  127      227\n",
      "5            8    3   40    6    5  115   44      221\n",
      "6           29   17   20   10   49   33  455      613\n",
      "__all__    240  205  121  383  145  212  782     2088\n"
     ]
    }
   ],
   "source": [
    "print(cm(test_data['Y'],predicted_emotion))"
   ]
  },
  {
   "cell_type": "code",
   "execution_count": null,
   "metadata": {
    "collapsed": true
   },
   "outputs": [],
   "source": []
  }
 ],
 "metadata": {
  "kernelspec": {
   "display_name": "Python 3",
   "language": "python",
   "name": "python3"
  },
  "language_info": {
   "codemirror_mode": {
    "name": "ipython",
    "version": 3
   },
   "file_extension": ".py",
   "mimetype": "text/x-python",
   "name": "python",
   "nbconvert_exporter": "python",
   "pygments_lexer": "ipython3",
   "version": "3.6.1"
  }
 },
 "nbformat": 4,
 "nbformat_minor": 2
}
