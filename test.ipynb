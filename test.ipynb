{
 "cells": [
  {
   "cell_type": "code",
   "execution_count": 52,
   "metadata": {},
   "outputs": [],
   "source": [
    "import numpy as np\n",
    "import pandas as pd\n",
    "import cv2\n",
    "import matplotlib.pyplot as plt\n",
    "from keras.preprocessing import image\n",
    "from keras.models import load_model\n",
    "\n",
    "TEST_FILE = 'datasets/test.csv'\n",
    "IMG_SIZE = (48,48)\n",
    "images = []\n",
    "\n",
    "model = load_model('blah.h5')"
   ]
  },
  {
   "cell_type": "code",
   "execution_count": 86,
   "metadata": {},
   "outputs": [],
   "source": [
    "data = pd.read_csv(TEST_FILE)\n",
    "pixels = data['Pixels'].values\n",
    "for i in range(len(pixels)):\n",
    "    pixelsFormatted = np.fromstring(pixels[i], dtype = int, sep = \" \").reshape(IMG_SIZE)\n",
    "    images.append(pixelsFormatted)"
   ]
  },
  {
   "cell_type": "code",
   "execution_count": 88,
   "metadata": {},
   "outputs": [
    {
     "name": "stdout",
     "output_type": "stream",
     "text": [
      "2624/2624 [==============================] - 40s    \n"
     ]
    }
   ],
   "source": [
    "X_test = np.array(images)\n",
    "X_test = X_test.reshape(X_test.shape[0],48,48,1) \n",
    "X_test = X_test.astype('float32')\n",
    "X_test /= 255\n",
    "model.compile(loss='categorical_crossentropy', optimizer='adam', metrics=['accuracy'])\n",
    "pre = model.predict_classes(X_test, verbose=1)"
   ]
  },
  {
   "cell_type": "code",
   "execution_count": null,
   "metadata": {
    "collapsed": true
   },
   "outputs": [],
   "source": []
  }
 ],
 "metadata": {
  "kernelspec": {
   "display_name": "Python 3",
   "language": "python",
   "name": "python3"
  },
  "language_info": {
   "codemirror_mode": {
    "name": "ipython",
    "version": 3
   },
   "file_extension": ".py",
   "mimetype": "text/x-python",
   "name": "python",
   "nbconvert_exporter": "python",
   "pygments_lexer": "ipython3",
   "version": "3.6.1"
  }
 },
 "nbformat": 4,
 "nbformat_minor": 2
}
