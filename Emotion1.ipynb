{
 "cells": [
  {
   "cell_type": "code",
   "execution_count": 33,
   "metadata": {},
   "outputs": [],
   "source": []
  },
  {
   "cell_type": "code",
   "execution_count": 34,
   "metadata": {
    "scrolled": false
   },
   "outputs": [
    {
     "name": "stdout",
     "output_type": "stream",
     "text": [
      "0.7208510638297873\n"
     ]
    }
   ],
   "source": [
    "import numpy as np\n",
    "import csv\n",
    "from sklearn.svm import SVC\n",
    "from sklearn.metrics import accuracy_score\n",
    "TrainLoc=\"datasets/train.csv\"\n",
    "Emotions=[]\n",
    "Pixels=[]\n",
    "ImgMatrix=[]\n",
    "Label=[]\n",
    "TRAIN_COUNT = 3000\n",
    "TEST_COUNT = 1178\n",
    "#Reading\n",
    "f=open(TrainLoc)\n",
    "csv_f=csv.reader(f)\n",
    "firstline = True\n",
    "for row in csv_f:\n",
    "    if  firstline:    #skip first line\n",
    "        firstline = False\n",
    "    else:\n",
    "        Emotions.append(row[0])\n",
    "        Pixels.append(row[1])\n",
    "f.close()        \n",
    "#Formatting\n",
    "for i in range(len(Pixels)):\n",
    "    PixelsInt = np.fromstring(Pixels[i], dtype = int, sep = \" \").reshape((48,48))\n",
    "    ImgMatrix.append(PixelsInt)\n",
    "    Label.append(int(Emotions[i]))\n",
    "  "
   ]
  },
  {
   "cell_type": "code",
   "execution_count": null,
   "metadata": {
    "scrolled": true
   },
   "outputs": [],
   "source": [
    "\n",
    "Features1 = np.array(ImgMatrix)\n",
    "\n",
    "Labels1 = np.array(Label)\n",
    "Features_train=Features1[:TRAIN_COUNT] \n",
    "Labels_train=Labels1[:TRAIN_COUNT] \n",
    "Features_test=Features1[TRAIN_COUNT+1:4176] \n",
    "Labels_test=Labels1[TRAIN_COUNT+1:4176] \n",
    "#print(Features_train)\n",
    "nsamples, nx, ny = Features_train.shape\n",
    "d2_train_dataset = Features_train.reshape((nsamples,nx*ny))\n",
    "nsamples, nx, ny = Features_test.shape\n",
    "d2_test_dataset = Features_test.reshape((nsamples,nx*ny))\n",
    "\n",
    "clf=SVC(C=1,kernel=\"linear\")\n",
    "clf.fit(d2_train_dataset,Labels_train)\n",
    "pred=clf.predict(d2_test_dataset)\n",
    "acc=accuracy_score(pred,Labels_test)\n",
    "print(acc)\n",
    "\n",
    "\n",
    "\n",
    "\n"
   ]
  },
  {
   "cell_type": "code",
   "execution_count": null,
   "metadata": {
    "scrolled": false
   },
   "outputs": [],
   "source": []
  },
  {
   "cell_type": "code",
   "execution_count": null,
   "metadata": {
    "scrolled": true
   },
   "outputs": [],
   "source": []
  },
  {
   "cell_type": "code",
   "execution_count": null,
   "metadata": {},
   "outputs": [],
   "source": []
  }
 ],
 "metadata": {
  "kernelspec": {
   "display_name": "Python 3",
   "language": "python",
   "name": "python3"
  },
  "language_info": {
   "codemirror_mode": {
    "name": "ipython",
    "version": 3
   },
   "file_extension": ".py",
   "mimetype": "text/x-python",
   "name": "python",
   "nbconvert_exporter": "python",
   "pygments_lexer": "ipython3",
   "version": "3.6.5"
  }
 },
 "nbformat": 4,
 "nbformat_minor": 2
}
