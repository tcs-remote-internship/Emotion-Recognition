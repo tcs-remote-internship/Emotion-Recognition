{
 "cells": [
  {
   "cell_type": "code",
   "execution_count": 1,
   "metadata": {
    "scrolled": true
   },
   "outputs": [],
   "source": [
    "\n",
    "import cv2\n",
    "#import Image\n",
    "import sys\n",
    "import numpy as np\n",
    "import tkinter as tk\n",
    "from tkinter import filedialog\n",
    "\n",
    "if __name__ == '__main__':\n",
    "\n",
    "  faceCascade = cv2.CascadeClassifier('haarcascade_frontalface_default.xml')\n",
    "  faceNeighborsMax = 10\n",
    "  neighborStep = 1\n",
    " \n",
    "  #interface   \n",
    "  root = tk.Tk()\n",
    "  root.withdraw()\n",
    "  file_path = filedialog.askopenfilename()\n",
    "  \n",
    "  frame = cv2.imread(file_path)\n",
    "  frameGray = cv2.cvtColor(frame, cv2.COLOR_BGR2GRAY)\n",
    "\n",
    "  for neigh in range(1, faceNeighborsMax, neighborStep):\n",
    "    faces = faceCascade.detectMultiScale(frameGray, 1.2, neigh)\n",
    "    frameClone = np.copy(frameGray)\n",
    "\n",
    "    for (x, y, w, h) in faces:\n",
    "     \n",
    "      face=frameClone[y:y+h,x:x+w]\n",
    "      ffname=\"faces/face\" + str(y) + \".jpg\"\n",
    "      cv2.imwrite(ffname,face)\n",
    "\n",
    "    cv2.imshow('face',face)\n",
    "    if cv2.waitKey(500) & 0xFF == 27:\n",
    "      cv2.destroyAllWindows()\n",
    "      sys.exit()\n"
   ]
  },
  {
   "cell_type": "markdown",
   "metadata": {},
   "source": []
  }
 ],
 "metadata": {
  "kernelspec": {
   "display_name": "Python 3",
   "language": "python",
   "name": "python3"
  },
  "language_info": {
   "codemirror_mode": {
    "name": "ipython",
    "version": 3
   },
   "file_extension": ".py",
   "mimetype": "text/x-python",
   "name": "python",
   "nbconvert_exporter": "python",
   "pygments_lexer": "ipython3",
   "version": "3.6.5"
  }
 },
 "nbformat": 4,
 "nbformat_minor": 2
}
