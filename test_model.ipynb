{
 "cells": [
  {
   "cell_type": "markdown",
   "metadata": {},
   "source": [
    "# Real Time Detection"
   ]
  },
  {
   "cell_type": "code",
   "execution_count": 120,
   "metadata": {},
   "outputs": [],
   "source": [
    "import cv2\n",
    "import numpy as np\n",
    "from keras.preprocessing import image\n",
    "from keras.models import load_model\n",
    "\n",
    "emotions = ('angry', 'disgust', 'fear', 'happy', 'sad', 'surprise', 'neutral')\n",
    "\n",
    "model = load_model('enjn.h5')\n",
    "\n",
    "cap = cv2.VideoCapture(0)\n",
    "\n",
    "\n",
    "\n",
    "faceCascade = cv2.CascadeClassifier('haarcascade_frontalface_default.xml')\n",
    "\n",
    "\n",
    "\n",
    "while(True):\n",
    "    \n",
    "    ret , img = cap.read()\n",
    "    \n",
    "    gray = cv2.cvtColor(img, cv2.COLOR_BGR2GRAY)\n",
    "\n",
    "    \n",
    "    faces = faceCascade.detectMultiScale(img, 1.5, 5,minSize = (30,30),flags=cv2.CASCADE_SCALE_IMAGE)\n",
    "    \n",
    "    for (x, y, w, h) in faces:\n",
    "        \n",
    "        cv2.rectangle(img,(x,y),(x+w,y+h),(255,0,0),2)\n",
    "        \n",
    "        detected = img[int(y):int(y+h), int(x):int(x+w)] \n",
    "        detected = cv2.cvtColor(detected, cv2.COLOR_BGR2GRAY) \n",
    "        detected = cv2.resize(detected, (48, 48)) \n",
    "        cv2.imwrite(\"faces/\"+str(x+w)+\".jpg\",detected)\n",
    "        pixels = image.img_to_array(detected)\n",
    "        pixels = np.expand_dims(pixels, axis = 0)\n",
    "      #  pixels = np.expand_dims(pixels, -1)\n",
    "        pixels =pixels.astype('float32')\n",
    "        pixels /= 255;\n",
    "        \n",
    "        \n",
    "        predicted = model.predict(pixels);\n",
    "        \n",
    "        \n",
    "        \n",
    "        indexed = np.argmax(predicted[0])\n",
    "        \n",
    "        emotion = emotions[indexed]\n",
    "        \n",
    "        cv2.putText(img, emotion, (int(x), int(y)), cv2.FONT_HERSHEY_SIMPLEX, 1, (255,255,255), 2)\n",
    "\n",
    "    cv2.imshow('img',img)    \n",
    "        \n",
    "    if cv2.waitKey(1) & 0xFF == ord('q'): \n",
    "        break\n",
    "     \n",
    "cap.release();\n",
    "cv2.destroyAllWindows()"
   ]
  },
  {
   "cell_type": "markdown",
   "metadata": {},
   "source": [
    "# Image Upload"
   ]
  },
  {
   "cell_type": "code",
   "execution_count": 127,
   "metadata": {},
   "outputs": [
    {
     "data": {
      "image/png": "[encoded data removed]",
      "text/plain": [
       "<Figure size 432x288 with 1 Axes>"
      ]
     },
     "metadata": {},
     "output_type": "display_data"
    },
    {
     "data": {
      "image/png": "[encoded data removed]",
      "text/plain": [
       "<Figure size 432x288 with 1 Axes>"
      ]
     },
     "metadata": {},
     "output_type": "display_data"
    }
   ],
   "source": [
    "from keras.preprocessing import image\n",
    "from keras.models import load_model\n",
    "import matplotlib.pyplot as plt\n",
    "\n",
    "model = load_model('enjn.h5')\n",
    "\n",
    "emotions = ('angry', 'disgust', 'fear', 'happy', 'sad', 'surprise', 'neutral')\n",
    "\n",
    "path = 'faces/496.jpg'\n",
    "img_orj = image.load_img(path)\n",
    "img = image.load_img(path, grayscale=True, target_size=(48, 48))\n",
    "\n",
    "x = image.img_to_array(img)\n",
    "x = np.expand_dims(x,axis = 0)\n",
    "x /= 255\n",
    "\n",
    "pre = model.predict(x)\n",
    "\n",
    "y_pos = np.arange(len(emotions))\n",
    "    \n",
    "plt.bar(y_pos, pre[0], align='center', alpha=0.5, color='blue')\n",
    "plt.xticks(y_pos, emotions)\n",
    "plt.ylabel('prob')\n",
    "plt.title('graph')\n",
    "plt.show()\n",
    "\n",
    "#2\n",
    "x = np.array(x, 'float32')\n",
    "x = x.reshape([48, 48]);\n",
    "plt.axis('off')\n",
    "plt.gray()\n",
    "plt.imshow(img)\n",
    "\n",
    "plt.show()"
   ]
  },
  {
   "cell_type": "code",
   "execution_count": 60,
   "metadata": {},
   "outputs": [
    {
     "data": {
      "text/plain": [
       "array([  1.84701657e-10,   5.05976416e-09,   9.99999881e-01,\n",
       "         4.04740810e-08,   2.27710331e-08,   9.88002924e-08,\n",
       "         5.08482358e-08], dtype=float32)"
      ]
     },
     "execution_count": 60,
     "metadata": {},
     "output_type": "execute_result"
    }
   ],
   "source": [
    "pre[0]"
   ]
  },
  {
   "cell_type": "code",
   "execution_count": 111,
   "metadata": {},
   "outputs": [],
   "source": [
    "import cv2\n",
    "import numpy as np\n",
    "from keras.models import load_model\n",
    "\n",
    "# laptop camera\n",
    "# rgb = cv2.VideoCapture(0)\n",
    "\n",
    "# droidcam android\n",
    "rgb = cv2.VideoCapture(0)\n",
    "\n",
    "\n",
    "# pre - trinaed xml file for detecting faces\n",
    "facec = cv2.CascadeClassifier('haarcascade_frontalface_default.xml')\n",
    "font = cv2.FONT_HERSHEY_SIMPLEX\n",
    "\n",
    "\n",
    "# loading saved cnn model\n",
    "model = load_model('ennerakshiku.h5')\n",
    "\n",
    "\n",
    "# predicting face emotion using saved model\n",
    "def get_emo(im):\n",
    "    im = im[np.newaxis,  :, :,np.newaxis,]\n",
    "    res = model.predict_classes(im,verbose=0)\n",
    "    emo = {0: 'Angry', 1: 'Disgust', 2: 'Fear', 3: 'Happy', 4: 'Sad', 5: 'Surprise', 6: 'Neutral'}\n",
    "    return emo[res[0]]\n",
    "\n",
    "\n",
    "# reshaping face image\n",
    "def recognize_face(im):\n",
    "    im = cv2.resize(im, (48, 48))\n",
    "    return get_emo(im)\n",
    "\n",
    "\n",
    "while True:\n",
    "    _, fr = rgb.read()\n",
    "    flip_fr = cv2.flip(fr,1)\n",
    "    gray = cv2.cvtColor(fr, cv2.COLOR_BGR2GRAY)\n",
    "    faces = facec.detectMultiScale(gray, 1.3, 5)\n",
    "    \n",
    "    for (x,y,w,h) in faces:\n",
    "        fc = fr[y:y+h, x:x+w, :]\n",
    "        gfc = cv2.cvtColor(fc, cv2.COLOR_BGR2GRAY)\n",
    "        out = recognize_face(gfc)\n",
    "        cv2.rectangle(fr,(x,y),(x+w,y+h),(255,0,0),2)\n",
    "        flip_fr = cv2.flip(fr,1)\n",
    "        cv2.putText(flip_fr, out, (30, 30), font, 1, (255, 255, 0), 2)\n",
    "    \n",
    "    cv2.imshow('rgb', flip_fr)\n",
    "\n",
    "    # press esc to close the window\n",
    "    k = cv2.waitKey(1) & 0xEFFFFF\n",
    "    if k==27:   \n",
    "        break\n",
    "    elif k==-1:\n",
    "        continue\n",
    "    else:\n",
    "        # print k\n",
    "        continue\n",
    "\n",
    "cv2.destroyAllWindows()"
   ]
  },
  {
   "cell_type": "code",
   "execution_count": 112,
   "metadata": {},
   "outputs": [],
   "source": [
    "rgb.release()"
   ]
  },
  {
   "cell_type": "code",
   "execution_count": null,
   "metadata": {
    "collapsed": true
   },
   "outputs": [],
   "source": []
  }
 ],
 "metadata": {
  "kernelspec": {
   "display_name": "Python 3",
   "language": "python",
   "name": "python3"
  }
 },
 "nbformat": 4,
 "nbformat_minor": 2
}
